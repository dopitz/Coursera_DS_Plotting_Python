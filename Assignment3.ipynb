{
 "cells": [
  {
   "cell_type": "markdown",
   "metadata": {},
   "source": [
    "# Assignment 3 - Building a Custom Visualization\n",
    "\n",
    "---\n",
    "\n",
    "In this assignment you must choose one of the options presented below and submit a visual as well as your source code for peer grading. The details of how you solve the assignment are up to you, although your assignment must use matplotlib so that your peers can evaluate your work. The options differ in challenge level, but there are no grades associated with the challenge level you chose. However, your peers will be asked to ensure you at least met a minimum quality for a given technique in order to pass. Implement the technique fully (or exceed it!) and you should be able to earn full grades for the assignment.\n",
    "\n",
    "\n",
    "&nbsp;&nbsp;&nbsp;&nbsp;&nbsp;&nbsp;Ferreira, N., Fisher, D., & Konig, A. C. (2014, April). [Sample-oriented task-driven visualizations: allowing users to make better, more confident decisions.](https://www.microsoft.com/en-us/research/wp-content/uploads/2016/02/Ferreira_Fisher_Sample_Oriented_Tasks.pdf) \n",
    "&nbsp;&nbsp;&nbsp;&nbsp;&nbsp;&nbsp;In Proceedings of the SIGCHI Conference on Human Factors in Computing Systems (pp. 571-580). ACM. ([video](https://www.youtube.com/watch?v=BI7GAs-va-Q))\n",
    "\n",
    "\n",
    "In this [paper](https://www.microsoft.com/en-us/research/wp-content/uploads/2016/02/Ferreira_Fisher_Sample_Oriented_Tasks.pdf) the authors describe the challenges users face when trying to make judgements about probabilistic data generated through samples. As an example, they look at a bar chart of four years of data (replicated below in Figure 1). Each year has a y-axis value, which is derived from a sample of a larger dataset. For instance, the first value might be the number votes in a given district or riding for 1992, with the average being around 33,000. On top of this is plotted the 95% confidence interval for the mean (see the boxplot lectures for more information, and the yerr parameter of barcharts).\n",
    "\n",
    "<br>\n",
    "<img src=\"readonly/Assignment3Fig1.png\" alt=\"Figure 1\" style=\"width: 400px;\"/>\n",
    "<h4 style=\"text-align: center;\" markdown=\"1\">  &nbsp;&nbsp;&nbsp;&nbsp;&nbsp;&nbsp;&nbsp;&nbsp;Figure 1 from (Ferreira et al, 2014).</h4>\n",
    "\n",
    "<br>\n",
    "\n",
    "A challenge that users face is that, for a given y-axis value (e.g. 42,000), it is difficult to know which x-axis values are most likely to be representative, because the confidence levels overlap and their distributions are different (the lengths of the confidence interval bars are unequal). One of the solutions the authors propose for this problem (Figure 2c) is to allow users to indicate the y-axis value of interest (e.g. 42,000) and then draw a horizontal line and color bars based on this value. So bars might be colored red if they are definitely above this value (given the confidence interval), blue if they are definitely below this value, or white if they contain this value.\n",
    "\n",
    "\n",
    "<br>\n",
    "<img src=\"readonly/Assignment3Fig2c.png\" alt=\"Figure 1\" style=\"width: 400px;\"/>\n",
    "<h4 style=\"text-align: center;\" markdown=\"1\">  Figure 2c from (Ferreira et al. 2014). Note that the colorbar legend at the bottom as well as the arrows are not required in the assignment descriptions below.</h4>\n",
    "\n",
    "<br>\n",
    "<br>\n",
    "\n",
    "**Easiest option:** Implement the bar coloring as described above - a color scale with only three colors, (e.g. blue, white, and red). Assume the user provides the y axis value of interest as a parameter or variable.\n",
    "\n",
    "\n",
    "**Harder option:** Implement the bar coloring as described in the paper, where the color of the bar is actually based on the amount of data covered (e.g. a gradient ranging from dark blue for the distribution being certainly below this y-axis, to white if the value is certainly contained, to dark red if the value is certainly not contained as the distribution is above the axis).\n",
    "\n",
    "**Even Harder option:** Add interactivity to the above, which allows the user to click on the y axis to set the value of interest. The bar colors should change with respect to what value the user has selected.\n",
    "\n",
    "**Hardest option:** Allow the user to interactively set a range of y values they are interested in, and recolor based on this (e.g. a y-axis band, see the paper for more details).\n",
    "\n",
    "---\n",
    "\n",
    "*Note: The data given for this assignment is not the same as the data used in the article and as a result the visualizations may look a little different.*"
   ]
  },
  {
   "cell_type": "code",
   "execution_count": 75,
   "metadata": {
    "collapsed": false
   },
   "outputs": [
    {
     "name": "stdout",
     "output_type": "stream",
     "text": [
      "4\n",
      "Int64Index([1992, 1993, 1994, 1995], dtype='int64')\n",
      "Hi. Please insert a y-axis value: 42000\n",
      "\n",
      "\n",
      "Y-axis value inserted: 42000\n",
      "\n",
      "Great, this number is a float\n",
      "\n"
     ]
    },
    {
     "data": {
      "text/plain": [
       "<matplotlib.figure.Figure at 0x7f2211549a58>"
      ]
     },
     "metadata": {},
     "output_type": "display_data"
    },
    {
     "data": {
      "image/png": "[encoded data removed]",
      "text/plain": [
       "<matplotlib.figure.Figure at 0x7f221765c860>"
      ]
     },
     "metadata": {},
     "output_type": "display_data"
    }
   ],
   "source": [
    "# Use the following data for this assignment:\n",
    "import sys\n",
    "import numpy as np\n",
    "import pandas as pd\n",
    "import matplotlib.pyplot as plt\n",
    "import matplotlib.colors as mcol\n",
    "import matplotlib.cm as cm\n",
    "from scipy import stats\n",
    "\n",
    "np.random.seed(12345)\n",
    "\n",
    "df = pd.DataFrame([np.random.normal(32000,200000,3650), \n",
    "                   np.random.normal(43000,100000,3650), \n",
    "                   np.random.normal(43500,140000,3650), \n",
    "                   np.random.normal(48000,70000,3650)], \n",
    "                  index=[1992,1993,1994,1995])\n",
    "\n",
    "print(df.shape[0])\n",
    "print(df.index)\n",
    "\n",
    "my_input = input('Hi. Please insert a y-axis value: ')\n",
    "\n",
    "print ('\\n')\n",
    "\n",
    "print('Y-axis value inserted: ' + str(my_input) + '\\n')\n",
    "\n",
    "\n",
    "try:\n",
    "    TH = float(my_input)\n",
    "    print (\"Great, this number is a float\" + \"\\n\")\n",
    "except ValueError:\n",
    "    print (\"This is not float. Please run the program again!\")\n",
    "    sys.exit()\n",
    "        \n",
    "#Determining n\n",
    "n= df.shape[1]\n",
    "\n",
    "#Error bars\n",
    "mean = df.mean(axis = 1)\n",
    "std = df.std(axis = 1)\n",
    "yerr = std / np.sqrt(n) * stats.t.ppf(1-0.05/2, n-1)\n",
    "\n",
    "#Plotting\n",
    "plt.clf() \n",
    "fig=plt.figure()\n",
    "ax = fig.add_subplot(111)\n",
    "bars = plt.bar(range(df.shape[0]), mean, yerr = yerr, color = 'lightslategrey')\n",
    "\n",
    "#Ticks\n",
    "plt.xticks(range(df.shape[0]), df.index, alpha = 0.8, fontsize=12)\n",
    "plt.yticks(fontsize=12)\n",
    "\n",
    "#Line\n",
    "ax.axhline(y =TH, color = 'grey', alpha = 0.5)\n",
    "ax.text(1.02, TH, str(TH), va='center', ha=\"left\", bbox=dict(facecolor=\"w\",alpha=0.5),transform=ax.get_yaxis_transform())\n",
    "\n",
    "#Details\n",
    "plt.title('A bar chart with 95% confidence intervals \\n representing the mean value over a dataset', fontsize=14)\n",
    "plt.gca().spines['top'].set_visible(False) \n",
    "plt.gca().spines['right'].set_visible(False) \n",
    "\n",
    "#Colors\n",
    "cm1 = mcol.LinearSegmentedColormap.from_list(\"MyCmapName\",[\"cornsilk\", \"violet\", \"indianred\"])\n",
    "cpick = cm.ScalarMappable(cmap=cm1)\n",
    "cpick.set_array([])\n",
    "cpick\n",
    "\n",
    "probs = []\n",
    "for bar, yerr_ in zip(bars, yerr):\n",
    "    low = bar.get_height() - yerr_\n",
    "    high = bar.get_height() + yerr_\n",
    "    prob = (high-TH)/(high-low)\n",
    "    if prob>1: prob = 1\n",
    "    if prob<0: prob =0\n",
    "    probs.append(prob)\n",
    "probs\n",
    "\n",
    "cpick.to_rgba(probs)\n",
    "\n",
    "#Plotting\n",
    "plt.bar(range(df.shape[0]), mean, yerr = yerr, color = cpick.to_rgba(probs))\n",
    "plt.xlabel('Year', fontsize='12') \n",
    "plt.ylabel('Value', fontsize='12') \n",
    "plt.colorbar(cpick, orientation='horizontal', pad=0.2)\n",
    "\n",
    "#Show\n",
    "plt.show()\n"
   ]
  }
 ],
 "metadata": {
  "kernelspec": {
   "display_name": "Python 3",
   "language": "python",
   "name": "python3"
  },
  "language_info": {
   "codemirror_mode": {
    "name": "ipython",
    "version": 3
   },
   "file_extension": ".py",
   "mimetype": "text/x-python",
   "name": "python",
   "nbconvert_exporter": "python",
   "pygments_lexer": "ipython3",
   "version": "3.5.2"
  }
 },
 "nbformat": 4,
 "nbformat_minor": 2
}
